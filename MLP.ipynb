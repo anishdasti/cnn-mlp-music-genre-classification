{
  "nbformat": 4,
  "nbformat_minor": 0,
  "metadata": {
    "colab": {
      "provenance": []
    },
    "kernelspec": {
      "name": "python3",
      "display_name": "Python 3"
    },
    "language_info": {
      "name": "python"
    }
  },
  "cells": [
    {
      "cell_type": "code",
      "source": [
        "from google.colab import drive\n",
        "drive.mount('/content/drive')"
      ],
      "metadata": {
        "colab": {
          "base_uri": "https://localhost:8080/"
        },
        "id": "MONwv8KvlT3f",
        "outputId": "f181e50b-7dce-42f3-f066-8c78411315cc"
      },
      "execution_count": null,
      "outputs": [
        {
          "output_type": "stream",
          "name": "stdout",
          "text": [
            "Mounted at /content/drive\n"
          ]
        }
      ]
    },
    {
      "cell_type": "code",
      "source": [
        "%cd /content/drive/MyDrive/CS4375-Project/"
      ],
      "metadata": {
        "colab": {
          "base_uri": "https://localhost:8080/"
        },
        "id": "mlF5Puyw5sa1",
        "outputId": "5fcc32eb-a064-4958-c299-722a8db292ef"
      },
      "execution_count": null,
      "outputs": [
        {
          "output_type": "stream",
          "name": "stdout",
          "text": [
            "/content/drive/MyDrive/CS4375-Project\n"
          ]
        }
      ]
    },
    {
      "cell_type": "code",
      "source": [
        "import pandas as pd\n",
        "import numpy as np\n",
        "import os\n",
        "import IPython.display as ipa\n",
        "import librosa\n",
        "import librosa.display\n",
        "import matplotlib.pyplot as plt\n",
        "%matplotlib inline"
      ],
      "metadata": {
        "id": "VRv69hZEA_OM"
      },
      "execution_count": null,
      "outputs": []
    },
    {
      "cell_type": "code",
      "source": [
        "audio_dataset_path = '/content/drive/MyDrive/CS4375-Project/genres_original'\n",
        "metadata = pd.read_csv('/content/drive/MyDrive/CS4375-Project/features_30_sec.csv')\n",
        "metadata.head()"
      ],
      "metadata": {
        "colab": {
          "base_uri": "https://localhost:8080/",
          "height": 256
        },
        "id": "PlrjjtznZT73",
        "outputId": "b681091b-b4fa-4f7d-a973-d5d0c0798734"
      },
      "execution_count": null,
      "outputs": [
        {
          "output_type": "execute_result",
          "data": {
            "text/plain": [
              "          filename  length  chroma_stft_mean  chroma_stft_var  rms_mean  \\\n",
              "0  blues.00000.wav  661794          0.350088         0.088757  0.130228   \n",
              "1  blues.00001.wav  661794          0.340914         0.094980  0.095948   \n",
              "2  blues.00002.wav  661794          0.363637         0.085275  0.175570   \n",
              "3  blues.00003.wav  661794          0.404785         0.093999  0.141093   \n",
              "4  blues.00004.wav  661794          0.308526         0.087841  0.091529   \n",
              "\n",
              "    rms_var  spectral_centroid_mean  spectral_centroid_var  \\\n",
              "0  0.002827             1784.165850          129774.064525   \n",
              "1  0.002373             1530.176679          375850.073649   \n",
              "2  0.002746             1552.811865          156467.643368   \n",
              "3  0.006346             1070.106615          184355.942417   \n",
              "4  0.002303             1835.004266          343399.939274   \n",
              "\n",
              "   spectral_bandwidth_mean  spectral_bandwidth_var  ...  mfcc16_var  \\\n",
              "0              2002.449060            85882.761315  ...   52.420910   \n",
              "1              2039.036516           213843.755497  ...   55.356403   \n",
              "2              1747.702312            76254.192257  ...   40.598766   \n",
              "3              1596.412872           166441.494769  ...   44.427753   \n",
              "4              1748.172116            88445.209036  ...   86.099236   \n",
              "\n",
              "   mfcc17_mean  mfcc17_var  mfcc18_mean  mfcc18_var  mfcc19_mean  mfcc19_var  \\\n",
              "0    -1.690215   36.524071    -0.408979   41.597103    -2.303523   55.062923   \n",
              "1    -0.731125   60.314529     0.295073   48.120598    -0.283518   51.106190   \n",
              "2    -7.729093   47.639427    -1.816407   52.382141    -3.439720   46.639660   \n",
              "3    -3.319597   50.206673     0.636965   37.319130    -0.619121   37.259739   \n",
              "4    -5.454034   75.269707    -0.916874   53.613918    -4.404827   62.910812   \n",
              "\n",
              "   mfcc20_mean  mfcc20_var  label  \n",
              "0     1.221291   46.936035  blues  \n",
              "1     0.531217   45.786282  blues  \n",
              "2    -2.231258   30.573025  blues  \n",
              "3    -3.407448   31.949339  blues  \n",
              "4   -11.703234   55.195160  blues  \n",
              "\n",
              "[5 rows x 60 columns]"
            ],
            "text/html": [
              "\n",
              "  <div id=\"df-0d63bb26-f0d3-41f2-aaf6-6ba7dbbe0351\" class=\"colab-df-container\">\n",
              "    <div>\n",
              "<style scoped>\n",
              "    .dataframe tbody tr th:only-of-type {\n",
              "        vertical-align: middle;\n",
              "    }\n",
              "\n",
              "    .dataframe tbody tr th {\n",
              "        vertical-align: top;\n",
              "    }\n",
              "\n",
              "    .dataframe thead th {\n",
              "        text-align: right;\n",
              "    }\n",
              "</style>\n",
              "<table border=\"1\" class=\"dataframe\">\n",
              "  <thead>\n",
              "    <tr style=\"text-align: right;\">\n",
              "      <th></th>\n",
              "      <th>filename</th>\n",
              "      <th>length</th>\n",
              "      <th>chroma_stft_mean</th>\n",
              "      <th>chroma_stft_var</th>\n",
              "      <th>rms_mean</th>\n",
              "      <th>rms_var</th>\n",
              "      <th>spectral_centroid_mean</th>\n",
              "      <th>spectral_centroid_var</th>\n",
              "      <th>spectral_bandwidth_mean</th>\n",
              "      <th>spectral_bandwidth_var</th>\n",
              "      <th>...</th>\n",
              "      <th>mfcc16_var</th>\n",
              "      <th>mfcc17_mean</th>\n",
              "      <th>mfcc17_var</th>\n",
              "      <th>mfcc18_mean</th>\n",
              "      <th>mfcc18_var</th>\n",
              "      <th>mfcc19_mean</th>\n",
              "      <th>mfcc19_var</th>\n",
              "      <th>mfcc20_mean</th>\n",
              "      <th>mfcc20_var</th>\n",
              "      <th>label</th>\n",
              "    </tr>\n",
              "  </thead>\n",
              "  <tbody>\n",
              "    <tr>\n",
              "      <th>0</th>\n",
              "      <td>blues.00000.wav</td>\n",
              "      <td>661794</td>\n",
              "      <td>0.350088</td>\n",
              "      <td>0.088757</td>\n",
              "      <td>0.130228</td>\n",
              "      <td>0.002827</td>\n",
              "      <td>1784.165850</td>\n",
              "      <td>129774.064525</td>\n",
              "      <td>2002.449060</td>\n",
              "      <td>85882.761315</td>\n",
              "      <td>...</td>\n",
              "      <td>52.420910</td>\n",
              "      <td>-1.690215</td>\n",
              "      <td>36.524071</td>\n",
              "      <td>-0.408979</td>\n",
              "      <td>41.597103</td>\n",
              "      <td>-2.303523</td>\n",
              "      <td>55.062923</td>\n",
              "      <td>1.221291</td>\n",
              "      <td>46.936035</td>\n",
              "      <td>blues</td>\n",
              "    </tr>\n",
              "    <tr>\n",
              "      <th>1</th>\n",
              "      <td>blues.00001.wav</td>\n",
              "      <td>661794</td>\n",
              "      <td>0.340914</td>\n",
              "      <td>0.094980</td>\n",
              "      <td>0.095948</td>\n",
              "      <td>0.002373</td>\n",
              "      <td>1530.176679</td>\n",
              "      <td>375850.073649</td>\n",
              "      <td>2039.036516</td>\n",
              "      <td>213843.755497</td>\n",
              "      <td>...</td>\n",
              "      <td>55.356403</td>\n",
              "      <td>-0.731125</td>\n",
              "      <td>60.314529</td>\n",
              "      <td>0.295073</td>\n",
              "      <td>48.120598</td>\n",
              "      <td>-0.283518</td>\n",
              "      <td>51.106190</td>\n",
              "      <td>0.531217</td>\n",
              "      <td>45.786282</td>\n",
              "      <td>blues</td>\n",
              "    </tr>\n",
              "    <tr>\n",
              "      <th>2</th>\n",
              "      <td>blues.00002.wav</td>\n",
              "      <td>661794</td>\n",
              "      <td>0.363637</td>\n",
              "      <td>0.085275</td>\n",
              "      <td>0.175570</td>\n",
              "      <td>0.002746</td>\n",
              "      <td>1552.811865</td>\n",
              "      <td>156467.643368</td>\n",
              "      <td>1747.702312</td>\n",
              "      <td>76254.192257</td>\n",
              "      <td>...</td>\n",
              "      <td>40.598766</td>\n",
              "      <td>-7.729093</td>\n",
              "      <td>47.639427</td>\n",
              "      <td>-1.816407</td>\n",
              "      <td>52.382141</td>\n",
              "      <td>-3.439720</td>\n",
              "      <td>46.639660</td>\n",
              "      <td>-2.231258</td>\n",
              "      <td>30.573025</td>\n",
              "      <td>blues</td>\n",
              "    </tr>\n",
              "    <tr>\n",
              "      <th>3</th>\n",
              "      <td>blues.00003.wav</td>\n",
              "      <td>661794</td>\n",
              "      <td>0.404785</td>\n",
              "      <td>0.093999</td>\n",
              "      <td>0.141093</td>\n",
              "      <td>0.006346</td>\n",
              "      <td>1070.106615</td>\n",
              "      <td>184355.942417</td>\n",
              "      <td>1596.412872</td>\n",
              "      <td>166441.494769</td>\n",
              "      <td>...</td>\n",
              "      <td>44.427753</td>\n",
              "      <td>-3.319597</td>\n",
              "      <td>50.206673</td>\n",
              "      <td>0.636965</td>\n",
              "      <td>37.319130</td>\n",
              "      <td>-0.619121</td>\n",
              "      <td>37.259739</td>\n",
              "      <td>-3.407448</td>\n",
              "      <td>31.949339</td>\n",
              "      <td>blues</td>\n",
              "    </tr>\n",
              "    <tr>\n",
              "      <th>4</th>\n",
              "      <td>blues.00004.wav</td>\n",
              "      <td>661794</td>\n",
              "      <td>0.308526</td>\n",
              "      <td>0.087841</td>\n",
              "      <td>0.091529</td>\n",
              "      <td>0.002303</td>\n",
              "      <td>1835.004266</td>\n",
              "      <td>343399.939274</td>\n",
              "      <td>1748.172116</td>\n",
              "      <td>88445.209036</td>\n",
              "      <td>...</td>\n",
              "      <td>86.099236</td>\n",
              "      <td>-5.454034</td>\n",
              "      <td>75.269707</td>\n",
              "      <td>-0.916874</td>\n",
              "      <td>53.613918</td>\n",
              "      <td>-4.404827</td>\n",
              "      <td>62.910812</td>\n",
              "      <td>-11.703234</td>\n",
              "      <td>55.195160</td>\n",
              "      <td>blues</td>\n",
              "    </tr>\n",
              "  </tbody>\n",
              "</table>\n",
              "<p>5 rows × 60 columns</p>\n",
              "</div>\n",
              "    <div class=\"colab-df-buttons\">\n",
              "\n",
              "  <div class=\"colab-df-container\">\n",
              "    <button class=\"colab-df-convert\" onclick=\"convertToInteractive('df-0d63bb26-f0d3-41f2-aaf6-6ba7dbbe0351')\"\n",
              "            title=\"Convert this dataframe to an interactive table.\"\n",
              "            style=\"display:none;\">\n",
              "\n",
              "  <svg xmlns=\"http://www.w3.org/2000/svg\" height=\"24px\" viewBox=\"0 -960 960 960\">\n",
              "    <path d=\"M120-120v-720h720v720H120Zm60-500h600v-160H180v160Zm220 220h160v-160H400v160Zm0 220h160v-160H400v160ZM180-400h160v-160H180v160Zm440 0h160v-160H620v160ZM180-180h160v-160H180v160Zm440 0h160v-160H620v160Z\"/>\n",
              "  </svg>\n",
              "    </button>\n",
              "\n",
              "  <style>\n",
              "    .colab-df-container {\n",
              "      display:flex;\n",
              "      gap: 12px;\n",
              "    }\n",
              "\n",
              "    .colab-df-convert {\n",
              "      background-color: #E8F0FE;\n",
              "      border: none;\n",
              "      border-radius: 50%;\n",
              "      cursor: pointer;\n",
              "      display: none;\n",
              "      fill: #1967D2;\n",
              "      height: 32px;\n",
              "      padding: 0 0 0 0;\n",
              "      width: 32px;\n",
              "    }\n",
              "\n",
              "    .colab-df-convert:hover {\n",
              "      background-color: #E2EBFA;\n",
              "      box-shadow: 0px 1px 2px rgba(60, 64, 67, 0.3), 0px 1px 3px 1px rgba(60, 64, 67, 0.15);\n",
              "      fill: #174EA6;\n",
              "    }\n",
              "\n",
              "    .colab-df-buttons div {\n",
              "      margin-bottom: 4px;\n",
              "    }\n",
              "\n",
              "    [theme=dark] .colab-df-convert {\n",
              "      background-color: #3B4455;\n",
              "      fill: #D2E3FC;\n",
              "    }\n",
              "\n",
              "    [theme=dark] .colab-df-convert:hover {\n",
              "      background-color: #434B5C;\n",
              "      box-shadow: 0px 1px 3px 1px rgba(0, 0, 0, 0.15);\n",
              "      filter: drop-shadow(0px 1px 2px rgba(0, 0, 0, 0.3));\n",
              "      fill: #FFFFFF;\n",
              "    }\n",
              "  </style>\n",
              "\n",
              "    <script>\n",
              "      const buttonEl =\n",
              "        document.querySelector('#df-0d63bb26-f0d3-41f2-aaf6-6ba7dbbe0351 button.colab-df-convert');\n",
              "      buttonEl.style.display =\n",
              "        google.colab.kernel.accessAllowed ? 'block' : 'none';\n",
              "\n",
              "      async function convertToInteractive(key) {\n",
              "        const element = document.querySelector('#df-0d63bb26-f0d3-41f2-aaf6-6ba7dbbe0351');\n",
              "        const dataTable =\n",
              "          await google.colab.kernel.invokeFunction('convertToInteractive',\n",
              "                                                    [key], {});\n",
              "        if (!dataTable) return;\n",
              "\n",
              "        const docLinkHtml = 'Like what you see? Visit the ' +\n",
              "          '<a target=\"_blank\" href=https://colab.research.google.com/notebooks/data_table.ipynb>data table notebook</a>'\n",
              "          + ' to learn more about interactive tables.';\n",
              "        element.innerHTML = '';\n",
              "        dataTable['output_type'] = 'display_data';\n",
              "        await google.colab.output.renderOutput(dataTable, element);\n",
              "        const docLink = document.createElement('div');\n",
              "        docLink.innerHTML = docLinkHtml;\n",
              "        element.appendChild(docLink);\n",
              "      }\n",
              "    </script>\n",
              "  </div>\n",
              "\n",
              "\n",
              "<div id=\"df-a9be336d-bb0b-4183-b833-28d9585c7170\">\n",
              "  <button class=\"colab-df-quickchart\" onclick=\"quickchart('df-a9be336d-bb0b-4183-b833-28d9585c7170')\"\n",
              "            title=\"Suggest charts\"\n",
              "            style=\"display:none;\">\n",
              "\n",
              "<svg xmlns=\"http://www.w3.org/2000/svg\" height=\"24px\"viewBox=\"0 0 24 24\"\n",
              "     width=\"24px\">\n",
              "    <g>\n",
              "        <path d=\"M19 3H5c-1.1 0-2 .9-2 2v14c0 1.1.9 2 2 2h14c1.1 0 2-.9 2-2V5c0-1.1-.9-2-2-2zM9 17H7v-7h2v7zm4 0h-2V7h2v10zm4 0h-2v-4h2v4z\"/>\n",
              "    </g>\n",
              "</svg>\n",
              "  </button>\n",
              "\n",
              "<style>\n",
              "  .colab-df-quickchart {\n",
              "      --bg-color: #E8F0FE;\n",
              "      --fill-color: #1967D2;\n",
              "      --hover-bg-color: #E2EBFA;\n",
              "      --hover-fill-color: #174EA6;\n",
              "      --disabled-fill-color: #AAA;\n",
              "      --disabled-bg-color: #DDD;\n",
              "  }\n",
              "\n",
              "  [theme=dark] .colab-df-quickchart {\n",
              "      --bg-color: #3B4455;\n",
              "      --fill-color: #D2E3FC;\n",
              "      --hover-bg-color: #434B5C;\n",
              "      --hover-fill-color: #FFFFFF;\n",
              "      --disabled-bg-color: #3B4455;\n",
              "      --disabled-fill-color: #666;\n",
              "  }\n",
              "\n",
              "  .colab-df-quickchart {\n",
              "    background-color: var(--bg-color);\n",
              "    border: none;\n",
              "    border-radius: 50%;\n",
              "    cursor: pointer;\n",
              "    display: none;\n",
              "    fill: var(--fill-color);\n",
              "    height: 32px;\n",
              "    padding: 0;\n",
              "    width: 32px;\n",
              "  }\n",
              "\n",
              "  .colab-df-quickchart:hover {\n",
              "    background-color: var(--hover-bg-color);\n",
              "    box-shadow: 0 1px 2px rgba(60, 64, 67, 0.3), 0 1px 3px 1px rgba(60, 64, 67, 0.15);\n",
              "    fill: var(--button-hover-fill-color);\n",
              "  }\n",
              "\n",
              "  .colab-df-quickchart-complete:disabled,\n",
              "  .colab-df-quickchart-complete:disabled:hover {\n",
              "    background-color: var(--disabled-bg-color);\n",
              "    fill: var(--disabled-fill-color);\n",
              "    box-shadow: none;\n",
              "  }\n",
              "\n",
              "  .colab-df-spinner {\n",
              "    border: 2px solid var(--fill-color);\n",
              "    border-color: transparent;\n",
              "    border-bottom-color: var(--fill-color);\n",
              "    animation:\n",
              "      spin 1s steps(1) infinite;\n",
              "  }\n",
              "\n",
              "  @keyframes spin {\n",
              "    0% {\n",
              "      border-color: transparent;\n",
              "      border-bottom-color: var(--fill-color);\n",
              "      border-left-color: var(--fill-color);\n",
              "    }\n",
              "    20% {\n",
              "      border-color: transparent;\n",
              "      border-left-color: var(--fill-color);\n",
              "      border-top-color: var(--fill-color);\n",
              "    }\n",
              "    30% {\n",
              "      border-color: transparent;\n",
              "      border-left-color: var(--fill-color);\n",
              "      border-top-color: var(--fill-color);\n",
              "      border-right-color: var(--fill-color);\n",
              "    }\n",
              "    40% {\n",
              "      border-color: transparent;\n",
              "      border-right-color: var(--fill-color);\n",
              "      border-top-color: var(--fill-color);\n",
              "    }\n",
              "    60% {\n",
              "      border-color: transparent;\n",
              "      border-right-color: var(--fill-color);\n",
              "    }\n",
              "    80% {\n",
              "      border-color: transparent;\n",
              "      border-right-color: var(--fill-color);\n",
              "      border-bottom-color: var(--fill-color);\n",
              "    }\n",
              "    90% {\n",
              "      border-color: transparent;\n",
              "      border-bottom-color: var(--fill-color);\n",
              "    }\n",
              "  }\n",
              "</style>\n",
              "\n",
              "  <script>\n",
              "    async function quickchart(key) {\n",
              "      const quickchartButtonEl =\n",
              "        document.querySelector('#' + key + ' button');\n",
              "      quickchartButtonEl.disabled = true;  // To prevent multiple clicks.\n",
              "      quickchartButtonEl.classList.add('colab-df-spinner');\n",
              "      try {\n",
              "        const charts = await google.colab.kernel.invokeFunction(\n",
              "            'suggestCharts', [key], {});\n",
              "      } catch (error) {\n",
              "        console.error('Error during call to suggestCharts:', error);\n",
              "      }\n",
              "      quickchartButtonEl.classList.remove('colab-df-spinner');\n",
              "      quickchartButtonEl.classList.add('colab-df-quickchart-complete');\n",
              "    }\n",
              "    (() => {\n",
              "      let quickchartButtonEl =\n",
              "        document.querySelector('#df-a9be336d-bb0b-4183-b833-28d9585c7170 button');\n",
              "      quickchartButtonEl.style.display =\n",
              "        google.colab.kernel.accessAllowed ? 'block' : 'none';\n",
              "    })();\n",
              "  </script>\n",
              "</div>\n",
              "\n",
              "    </div>\n",
              "  </div>\n"
            ],
            "application/vnd.google.colaboratory.intrinsic+json": {
              "type": "dataframe",
              "variable_name": "metadata"
            }
          },
          "metadata": {},
          "execution_count": 8
        }
      ]
    },
    {
      "cell_type": "markdown",
      "source": [
        "Feature Extractor Function (using Mel Frequency Cepstral Coefficients (MFCC))"
      ],
      "metadata": {
        "id": "5XK_IEuNw2In"
      }
    },
    {
      "cell_type": "code",
      "source": [
        "def features_extractor(file):\n",
        "  audio, sample_rate = librosa.load(file_name, res_type='kaiser_fast')\n",
        "  mfccs_features = librosa.feature.mfcc(y=audio, sr=sample_rate, n_mfcc=40)\n",
        "  mfccs_scaled_features = np.mean(mfccs_features.T,axis=0)\n",
        "\n",
        "  return mfccs_scaled_features"
      ],
      "metadata": {
        "id": "XFN2VSxLbMcL"
      },
      "execution_count": null,
      "outputs": []
    },
    {
      "cell_type": "code",
      "source": [
        "from tqdm import tqdm\n",
        "extracted_features = []\n",
        "\n",
        "for index_num, row in tqdm(metadata.iterrows()):\n",
        "    try:\n",
        "        final_class_labels = row[\"label\"]\n",
        "        file_name = os.path.join(os.path.abspath(audio_dataset_path), final_class_labels+'/', str(row[\"filename\"]))\n",
        "        data = features_extractor(file_name)\n",
        "        extracted_features.append([data, final_class_labels])\n",
        "    except Exception as e:\n",
        "        print(f\"Error: {e}\")\n",
        "        continue\n"
      ],
      "metadata": {
        "colab": {
          "base_uri": "https://localhost:8080/"
        },
        "id": "xOjhVROQcUhU",
        "outputId": "753b4f7b-9ad6-4b09-823d-1527d9473b2b"
      },
      "execution_count": null,
      "outputs": [
        {
          "output_type": "stream",
          "name": "stderr",
          "text": [
            "554it [07:02,  1.50it/s]<ipython-input-9-2d99a3da4535>:2: UserWarning: PySoundFile failed. Trying audioread instead.\n",
            "  audio, sample_rate = librosa.load(file_name, res_type='kaiser_fast')\n",
            "/usr/local/lib/python3.10/dist-packages/librosa/core/audio.py:183: FutureWarning: librosa.core.audio.__audioread_load\n",
            "\tDeprecated as of librosa version 0.10.0.\n",
            "\tIt will be removed in librosa version 1.0.\n",
            "  y, sr_native = __audioread_load(path, offset, duration, dtype)\n",
            "555it [07:04,  1.04s/it]"
          ]
        },
        {
          "output_type": "stream",
          "name": "stdout",
          "text": [
            "Error: \n"
          ]
        },
        {
          "output_type": "stream",
          "name": "stderr",
          "text": [
            "1000it [12:07,  1.37it/s]\n"
          ]
        }
      ]
    },
    {
      "cell_type": "code",
      "source": [
        "extracted_features_df = pd.DataFrame(extracted_features,columns=['feature', 'class'])\n",
        "extracted_features_df.head()"
      ],
      "metadata": {
        "colab": {
          "base_uri": "https://localhost:8080/",
          "height": 206
        },
        "id": "saFB76hAeWZM",
        "outputId": "5fed111c-4b90-4a5f-c053-636236ba626e"
      },
      "execution_count": null,
      "outputs": [
        {
          "output_type": "execute_result",
          "data": {
            "text/plain": [
              "                                             feature  class\n",
              "0  [-113.59882, 121.57067, -19.162262, 42.36394, ...  blues\n",
              "1  [-207.52383, 123.98514, 8.947019, 35.86715, 2....  blues\n",
              "2  [-90.757164, 140.44087, -29.084547, 31.686693,...  blues\n",
              "3  [-199.57513, 150.0861, 5.663404, 26.855282, 1....  blues\n",
              "4  [-160.35417, 126.20948, -35.581394, 22.139256,...  blues"
            ],
            "text/html": [
              "\n",
              "  <div id=\"df-ae9d8496-9674-4f75-974d-1529b4945e80\" class=\"colab-df-container\">\n",
              "    <div>\n",
              "<style scoped>\n",
              "    .dataframe tbody tr th:only-of-type {\n",
              "        vertical-align: middle;\n",
              "    }\n",
              "\n",
              "    .dataframe tbody tr th {\n",
              "        vertical-align: top;\n",
              "    }\n",
              "\n",
              "    .dataframe thead th {\n",
              "        text-align: right;\n",
              "    }\n",
              "</style>\n",
              "<table border=\"1\" class=\"dataframe\">\n",
              "  <thead>\n",
              "    <tr style=\"text-align: right;\">\n",
              "      <th></th>\n",
              "      <th>feature</th>\n",
              "      <th>class</th>\n",
              "    </tr>\n",
              "  </thead>\n",
              "  <tbody>\n",
              "    <tr>\n",
              "      <th>0</th>\n",
              "      <td>[-113.59882, 121.57067, -19.162262, 42.36394, ...</td>\n",
              "      <td>blues</td>\n",
              "    </tr>\n",
              "    <tr>\n",
              "      <th>1</th>\n",
              "      <td>[-207.52383, 123.98514, 8.947019, 35.86715, 2....</td>\n",
              "      <td>blues</td>\n",
              "    </tr>\n",
              "    <tr>\n",
              "      <th>2</th>\n",
              "      <td>[-90.757164, 140.44087, -29.084547, 31.686693,...</td>\n",
              "      <td>blues</td>\n",
              "    </tr>\n",
              "    <tr>\n",
              "      <th>3</th>\n",
              "      <td>[-199.57513, 150.0861, 5.663404, 26.855282, 1....</td>\n",
              "      <td>blues</td>\n",
              "    </tr>\n",
              "    <tr>\n",
              "      <th>4</th>\n",
              "      <td>[-160.35417, 126.20948, -35.581394, 22.139256,...</td>\n",
              "      <td>blues</td>\n",
              "    </tr>\n",
              "  </tbody>\n",
              "</table>\n",
              "</div>\n",
              "    <div class=\"colab-df-buttons\">\n",
              "\n",
              "  <div class=\"colab-df-container\">\n",
              "    <button class=\"colab-df-convert\" onclick=\"convertToInteractive('df-ae9d8496-9674-4f75-974d-1529b4945e80')\"\n",
              "            title=\"Convert this dataframe to an interactive table.\"\n",
              "            style=\"display:none;\">\n",
              "\n",
              "  <svg xmlns=\"http://www.w3.org/2000/svg\" height=\"24px\" viewBox=\"0 -960 960 960\">\n",
              "    <path d=\"M120-120v-720h720v720H120Zm60-500h600v-160H180v160Zm220 220h160v-160H400v160Zm0 220h160v-160H400v160ZM180-400h160v-160H180v160Zm440 0h160v-160H620v160ZM180-180h160v-160H180v160Zm440 0h160v-160H620v160Z\"/>\n",
              "  </svg>\n",
              "    </button>\n",
              "\n",
              "  <style>\n",
              "    .colab-df-container {\n",
              "      display:flex;\n",
              "      gap: 12px;\n",
              "    }\n",
              "\n",
              "    .colab-df-convert {\n",
              "      background-color: #E8F0FE;\n",
              "      border: none;\n",
              "      border-radius: 50%;\n",
              "      cursor: pointer;\n",
              "      display: none;\n",
              "      fill: #1967D2;\n",
              "      height: 32px;\n",
              "      padding: 0 0 0 0;\n",
              "      width: 32px;\n",
              "    }\n",
              "\n",
              "    .colab-df-convert:hover {\n",
              "      background-color: #E2EBFA;\n",
              "      box-shadow: 0px 1px 2px rgba(60, 64, 67, 0.3), 0px 1px 3px 1px rgba(60, 64, 67, 0.15);\n",
              "      fill: #174EA6;\n",
              "    }\n",
              "\n",
              "    .colab-df-buttons div {\n",
              "      margin-bottom: 4px;\n",
              "    }\n",
              "\n",
              "    [theme=dark] .colab-df-convert {\n",
              "      background-color: #3B4455;\n",
              "      fill: #D2E3FC;\n",
              "    }\n",
              "\n",
              "    [theme=dark] .colab-df-convert:hover {\n",
              "      background-color: #434B5C;\n",
              "      box-shadow: 0px 1px 3px 1px rgba(0, 0, 0, 0.15);\n",
              "      filter: drop-shadow(0px 1px 2px rgba(0, 0, 0, 0.3));\n",
              "      fill: #FFFFFF;\n",
              "    }\n",
              "  </style>\n",
              "\n",
              "    <script>\n",
              "      const buttonEl =\n",
              "        document.querySelector('#df-ae9d8496-9674-4f75-974d-1529b4945e80 button.colab-df-convert');\n",
              "      buttonEl.style.display =\n",
              "        google.colab.kernel.accessAllowed ? 'block' : 'none';\n",
              "\n",
              "      async function convertToInteractive(key) {\n",
              "        const element = document.querySelector('#df-ae9d8496-9674-4f75-974d-1529b4945e80');\n",
              "        const dataTable =\n",
              "          await google.colab.kernel.invokeFunction('convertToInteractive',\n",
              "                                                    [key], {});\n",
              "        if (!dataTable) return;\n",
              "\n",
              "        const docLinkHtml = 'Like what you see? Visit the ' +\n",
              "          '<a target=\"_blank\" href=https://colab.research.google.com/notebooks/data_table.ipynb>data table notebook</a>'\n",
              "          + ' to learn more about interactive tables.';\n",
              "        element.innerHTML = '';\n",
              "        dataTable['output_type'] = 'display_data';\n",
              "        await google.colab.output.renderOutput(dataTable, element);\n",
              "        const docLink = document.createElement('div');\n",
              "        docLink.innerHTML = docLinkHtml;\n",
              "        element.appendChild(docLink);\n",
              "      }\n",
              "    </script>\n",
              "  </div>\n",
              "\n",
              "\n",
              "<div id=\"df-593b3ab4-b7d9-40fc-afce-c7859412e541\">\n",
              "  <button class=\"colab-df-quickchart\" onclick=\"quickchart('df-593b3ab4-b7d9-40fc-afce-c7859412e541')\"\n",
              "            title=\"Suggest charts\"\n",
              "            style=\"display:none;\">\n",
              "\n",
              "<svg xmlns=\"http://www.w3.org/2000/svg\" height=\"24px\"viewBox=\"0 0 24 24\"\n",
              "     width=\"24px\">\n",
              "    <g>\n",
              "        <path d=\"M19 3H5c-1.1 0-2 .9-2 2v14c0 1.1.9 2 2 2h14c1.1 0 2-.9 2-2V5c0-1.1-.9-2-2-2zM9 17H7v-7h2v7zm4 0h-2V7h2v10zm4 0h-2v-4h2v4z\"/>\n",
              "    </g>\n",
              "</svg>\n",
              "  </button>\n",
              "\n",
              "<style>\n",
              "  .colab-df-quickchart {\n",
              "      --bg-color: #E8F0FE;\n",
              "      --fill-color: #1967D2;\n",
              "      --hover-bg-color: #E2EBFA;\n",
              "      --hover-fill-color: #174EA6;\n",
              "      --disabled-fill-color: #AAA;\n",
              "      --disabled-bg-color: #DDD;\n",
              "  }\n",
              "\n",
              "  [theme=dark] .colab-df-quickchart {\n",
              "      --bg-color: #3B4455;\n",
              "      --fill-color: #D2E3FC;\n",
              "      --hover-bg-color: #434B5C;\n",
              "      --hover-fill-color: #FFFFFF;\n",
              "      --disabled-bg-color: #3B4455;\n",
              "      --disabled-fill-color: #666;\n",
              "  }\n",
              "\n",
              "  .colab-df-quickchart {\n",
              "    background-color: var(--bg-color);\n",
              "    border: none;\n",
              "    border-radius: 50%;\n",
              "    cursor: pointer;\n",
              "    display: none;\n",
              "    fill: var(--fill-color);\n",
              "    height: 32px;\n",
              "    padding: 0;\n",
              "    width: 32px;\n",
              "  }\n",
              "\n",
              "  .colab-df-quickchart:hover {\n",
              "    background-color: var(--hover-bg-color);\n",
              "    box-shadow: 0 1px 2px rgba(60, 64, 67, 0.3), 0 1px 3px 1px rgba(60, 64, 67, 0.15);\n",
              "    fill: var(--button-hover-fill-color);\n",
              "  }\n",
              "\n",
              "  .colab-df-quickchart-complete:disabled,\n",
              "  .colab-df-quickchart-complete:disabled:hover {\n",
              "    background-color: var(--disabled-bg-color);\n",
              "    fill: var(--disabled-fill-color);\n",
              "    box-shadow: none;\n",
              "  }\n",
              "\n",
              "  .colab-df-spinner {\n",
              "    border: 2px solid var(--fill-color);\n",
              "    border-color: transparent;\n",
              "    border-bottom-color: var(--fill-color);\n",
              "    animation:\n",
              "      spin 1s steps(1) infinite;\n",
              "  }\n",
              "\n",
              "  @keyframes spin {\n",
              "    0% {\n",
              "      border-color: transparent;\n",
              "      border-bottom-color: var(--fill-color);\n",
              "      border-left-color: var(--fill-color);\n",
              "    }\n",
              "    20% {\n",
              "      border-color: transparent;\n",
              "      border-left-color: var(--fill-color);\n",
              "      border-top-color: var(--fill-color);\n",
              "    }\n",
              "    30% {\n",
              "      border-color: transparent;\n",
              "      border-left-color: var(--fill-color);\n",
              "      border-top-color: var(--fill-color);\n",
              "      border-right-color: var(--fill-color);\n",
              "    }\n",
              "    40% {\n",
              "      border-color: transparent;\n",
              "      border-right-color: var(--fill-color);\n",
              "      border-top-color: var(--fill-color);\n",
              "    }\n",
              "    60% {\n",
              "      border-color: transparent;\n",
              "      border-right-color: var(--fill-color);\n",
              "    }\n",
              "    80% {\n",
              "      border-color: transparent;\n",
              "      border-right-color: var(--fill-color);\n",
              "      border-bottom-color: var(--fill-color);\n",
              "    }\n",
              "    90% {\n",
              "      border-color: transparent;\n",
              "      border-bottom-color: var(--fill-color);\n",
              "    }\n",
              "  }\n",
              "</style>\n",
              "\n",
              "  <script>\n",
              "    async function quickchart(key) {\n",
              "      const quickchartButtonEl =\n",
              "        document.querySelector('#' + key + ' button');\n",
              "      quickchartButtonEl.disabled = true;  // To prevent multiple clicks.\n",
              "      quickchartButtonEl.classList.add('colab-df-spinner');\n",
              "      try {\n",
              "        const charts = await google.colab.kernel.invokeFunction(\n",
              "            'suggestCharts', [key], {});\n",
              "      } catch (error) {\n",
              "        console.error('Error during call to suggestCharts:', error);\n",
              "      }\n",
              "      quickchartButtonEl.classList.remove('colab-df-spinner');\n",
              "      quickchartButtonEl.classList.add('colab-df-quickchart-complete');\n",
              "    }\n",
              "    (() => {\n",
              "      let quickchartButtonEl =\n",
              "        document.querySelector('#df-593b3ab4-b7d9-40fc-afce-c7859412e541 button');\n",
              "      quickchartButtonEl.style.display =\n",
              "        google.colab.kernel.accessAllowed ? 'block' : 'none';\n",
              "    })();\n",
              "  </script>\n",
              "</div>\n",
              "\n",
              "    </div>\n",
              "  </div>\n"
            ],
            "application/vnd.google.colaboratory.intrinsic+json": {
              "type": "dataframe",
              "variable_name": "extracted_features_df",
              "summary": "{\n  \"name\": \"extracted_features_df\",\n  \"rows\": 999,\n  \"fields\": [\n    {\n      \"column\": \"feature\",\n      \"properties\": {\n        \"dtype\": \"object\",\n        \"semantic_type\": \"\",\n        \"description\": \"\"\n      }\n    },\n    {\n      \"column\": \"class\",\n      \"properties\": {\n        \"dtype\": \"category\",\n        \"num_unique_values\": 10,\n        \"samples\": [\n          \"reggae\",\n          \"classical\",\n          \"jazz\"\n        ],\n        \"semantic_type\": \"\",\n        \"description\": \"\"\n      }\n    }\n  ]\n}"
            }
          },
          "metadata": {},
          "execution_count": 11
        }
      ]
    },
    {
      "cell_type": "code",
      "source": [
        "X = np.array(extracted_features_df['feature'].tolist())\n",
        "y = np.array(extracted_features_df['class'].tolist())"
      ],
      "metadata": {
        "id": "fzFSFVlWe4ZV"
      },
      "execution_count": null,
      "outputs": []
    },
    {
      "cell_type": "code",
      "source": [
        "X.shape"
      ],
      "metadata": {
        "colab": {
          "base_uri": "https://localhost:8080/"
        },
        "id": "R8cjMVHifgZ4",
        "outputId": "a2f09410-6548-46e9-a159-fd0b47cadfea"
      },
      "execution_count": null,
      "outputs": [
        {
          "output_type": "execute_result",
          "data": {
            "text/plain": [
              "(999, 40)"
            ]
          },
          "metadata": {},
          "execution_count": 13
        }
      ]
    },
    {
      "cell_type": "code",
      "source": [
        "from tensorflow.keras.utils import to_categorical\n",
        "from sklearn.preprocessing import LabelEncoder\n",
        "labelencoder = LabelEncoder()\n",
        "y = to_categorical(labelencoder.fit_transform(y))"
      ],
      "metadata": {
        "id": "lYjBHmAnfvwb"
      },
      "execution_count": null,
      "outputs": []
    },
    {
      "cell_type": "code",
      "source": [
        "y.shape"
      ],
      "metadata": {
        "colab": {
          "base_uri": "https://localhost:8080/"
        },
        "id": "8BmuHzF3gMiQ",
        "outputId": "53949140-0a00-45e4-d319-58d34acd3633"
      },
      "execution_count": null,
      "outputs": [
        {
          "output_type": "execute_result",
          "data": {
            "text/plain": [
              "(999, 10)"
            ]
          },
          "metadata": {},
          "execution_count": 15
        }
      ]
    },
    {
      "cell_type": "markdown",
      "source": [
        "Split Train/Test data (80/20)"
      ],
      "metadata": {
        "id": "zjlSri6IgQIF"
      }
    },
    {
      "cell_type": "code",
      "source": [
        "from sklearn.model_selection import train_test_split\n",
        "X_train, X_test, y_train, y_test = train_test_split(X, y, test_size = 0.2, random_state = 0)"
      ],
      "metadata": {
        "id": "VIG_RiF2gOKm"
      },
      "execution_count": null,
      "outputs": []
    },
    {
      "cell_type": "code",
      "source": [
        "print(X_train.shape)\n",
        "print(X_test.shape)\n",
        "print(y_train.shape)\n",
        "print(y_test.shape)"
      ],
      "metadata": {
        "colab": {
          "base_uri": "https://localhost:8080/"
        },
        "id": "PBzYKSbfgOkl",
        "outputId": "b7a07dcf-2b9c-47a5-94d1-5b2d4e4781fc"
      },
      "execution_count": null,
      "outputs": [
        {
          "output_type": "stream",
          "name": "stdout",
          "text": [
            "(799, 40)\n",
            "(200, 40)\n",
            "(799, 10)\n",
            "(200, 10)\n"
          ]
        }
      ]
    },
    {
      "cell_type": "code",
      "source": [
        "import tensorflow as tf\n",
        "print(tf.__version__)"
      ],
      "metadata": {
        "colab": {
          "base_uri": "https://localhost:8080/"
        },
        "id": "66Xyq26GhUJt",
        "outputId": "b81a3cf9-04dd-4cfc-b380-2012ce666c03"
      },
      "execution_count": null,
      "outputs": [
        {
          "output_type": "stream",
          "name": "stdout",
          "text": [
            "2.15.0\n"
          ]
        }
      ]
    },
    {
      "cell_type": "code",
      "source": [
        "from tensorflow.keras.models import Sequential\n",
        "from tensorflow.keras.layers import Dense, Dropout, Activation, Flatten\n",
        "from tensorflow.keras.optimizers import Adam\n",
        "from sklearn import metrics"
      ],
      "metadata": {
        "id": "WENiSoFahUL_"
      },
      "execution_count": null,
      "outputs": []
    },
    {
      "cell_type": "code",
      "source": [
        "num_labels = y.shape[1]"
      ],
      "metadata": {
        "id": "vBMQIAw5jc_p"
      },
      "execution_count": null,
      "outputs": []
    },
    {
      "cell_type": "markdown",
      "source": [
        "MLP Model Implementation"
      ],
      "metadata": {
        "id": "U6FthBW3BcQK"
      }
    },
    {
      "cell_type": "code",
      "source": [
        "model = Sequential()\n",
        "model.add(Dense(1024, input_shape=(40,), activation=\"relu\"))\n",
        "model.add(Dropout(0.3))\n",
        "model.add(Dense(512, activation=\"relu\"))\n",
        "model.add(Dropout(0.3))\n",
        "model.add(Dense(256, activation=\"relu\"))\n",
        "model.add(Dropout(0.3))\n",
        "model.add(Dense(128, activation=\"relu\"))\n",
        "model.add(Dropout(0.3))\n",
        "model.add(Dense(64, activation=\"relu\"))\n",
        "model.add(Dropout(0.3))\n",
        "model.add(Dense(32, activation=\"relu\"))\n",
        "model.add(Dropout(0.3))\n",
        "# Final layer\n",
        "model.add(Dense(num_labels, activation=\"softmax\"))"
      ],
      "metadata": {
        "id": "wudGgGjjklDG"
      },
      "execution_count": null,
      "outputs": []
    },
    {
      "cell_type": "code",
      "source": [
        "model.summary()"
      ],
      "metadata": {
        "colab": {
          "base_uri": "https://localhost:8080/"
        },
        "id": "YwEf1B6bkrW_",
        "outputId": "0f2e36ff-026c-4bf7-91ad-e9e2c56d4cbe"
      },
      "execution_count": null,
      "outputs": [
        {
          "output_type": "stream",
          "name": "stdout",
          "text": [
            "Model: \"sequential\"\n",
            "_________________________________________________________________\n",
            " Layer (type)                Output Shape              Param #   \n",
            "=================================================================\n",
            " dense (Dense)               (None, 1024)              41984     \n",
            "                                                                 \n",
            " dropout (Dropout)           (None, 1024)              0         \n",
            "                                                                 \n",
            " dense_1 (Dense)             (None, 512)               524800    \n",
            "                                                                 \n",
            " dropout_1 (Dropout)         (None, 512)               0         \n",
            "                                                                 \n",
            " dense_2 (Dense)             (None, 256)               131328    \n",
            "                                                                 \n",
            " dropout_2 (Dropout)         (None, 256)               0         \n",
            "                                                                 \n",
            " dense_3 (Dense)             (None, 128)               32896     \n",
            "                                                                 \n",
            " dropout_3 (Dropout)         (None, 128)               0         \n",
            "                                                                 \n",
            " dense_4 (Dense)             (None, 64)                8256      \n",
            "                                                                 \n",
            " dropout_4 (Dropout)         (None, 64)                0         \n",
            "                                                                 \n",
            " dense_5 (Dense)             (None, 32)                2080      \n",
            "                                                                 \n",
            " dropout_5 (Dropout)         (None, 32)                0         \n",
            "                                                                 \n",
            " dense_6 (Dense)             (None, 10)                330       \n",
            "                                                                 \n",
            "=================================================================\n",
            "Total params: 741674 (2.83 MB)\n",
            "Trainable params: 741674 (2.83 MB)\n",
            "Non-trainable params: 0 (0.00 Byte)\n",
            "_________________________________________________________________\n"
          ]
        }
      ]
    },
    {
      "cell_type": "markdown",
      "source": [
        "Compiling Model"
      ],
      "metadata": {
        "id": "Z0E_9OZXBfLo"
      }
    },
    {
      "cell_type": "code",
      "source": [
        "model.compile(loss = 'categorical_crossentropy', metrics = ['accuracy'], optimizer = 'adam')"
      ],
      "metadata": {
        "id": "DvHc19vWmLLW"
      },
      "execution_count": null,
      "outputs": []
    },
    {
      "cell_type": "markdown",
      "source": [
        "Training Model"
      ],
      "metadata": {
        "id": "tT208prxBhAW"
      }
    },
    {
      "cell_type": "code",
      "source": [
        "# Training the model\n",
        "num_epochs = 100\n",
        "num_batch_size = 32\n",
        "\n",
        "history = model.fit(X_train, y_train, batch_size=num_batch_size, epochs=num_epochs, validation_data=(X_test, y_test), verbose=1)"
      ],
      "metadata": {
        "colab": {
          "base_uri": "https://localhost:8080/"
        },
        "id": "NWDpKWCfoJn8",
        "outputId": "5a9b1493-f51c-4c91-e452-04d330850b3b"
      },
      "execution_count": null,
      "outputs": [
        {
          "output_type": "stream",
          "name": "stdout",
          "text": [
            "Epoch 1/100\n",
            "25/25 [==============================] - 3s 31ms/step - loss: 4.7179 - accuracy: 0.1001 - val_loss: 2.2853 - val_accuracy: 0.1150\n",
            "Epoch 2/100\n",
            "25/25 [==============================] - 0s 18ms/step - loss: 2.6643 - accuracy: 0.1139 - val_loss: 2.2822 - val_accuracy: 0.1600\n",
            "Epoch 3/100\n",
            "25/25 [==============================] - 0s 17ms/step - loss: 2.3890 - accuracy: 0.1176 - val_loss: 2.2789 - val_accuracy: 0.1100\n",
            "Epoch 4/100\n",
            "25/25 [==============================] - 0s 17ms/step - loss: 2.2905 - accuracy: 0.1289 - val_loss: 2.2409 - val_accuracy: 0.2100\n",
            "Epoch 5/100\n",
            "25/25 [==============================] - 0s 18ms/step - loss: 2.3083 - accuracy: 0.1439 - val_loss: 2.1983 - val_accuracy: 0.1750\n",
            "Epoch 6/100\n",
            "25/25 [==============================] - 0s 18ms/step - loss: 2.2468 - accuracy: 0.1539 - val_loss: 2.1709 - val_accuracy: 0.1950\n",
            "Epoch 7/100\n",
            "25/25 [==============================] - 0s 16ms/step - loss: 2.2256 - accuracy: 0.1727 - val_loss: 2.1416 - val_accuracy: 0.2250\n",
            "Epoch 8/100\n",
            "25/25 [==============================] - 0s 17ms/step - loss: 2.1566 - accuracy: 0.1940 - val_loss: 2.0935 - val_accuracy: 0.2400\n",
            "Epoch 9/100\n",
            "25/25 [==============================] - 0s 17ms/step - loss: 2.1787 - accuracy: 0.1915 - val_loss: 2.0772 - val_accuracy: 0.3400\n",
            "Epoch 10/100\n",
            "25/25 [==============================] - 0s 17ms/step - loss: 2.1632 - accuracy: 0.2103 - val_loss: 2.1308 - val_accuracy: 0.3100\n",
            "Epoch 11/100\n",
            "25/25 [==============================] - 0s 17ms/step - loss: 2.1005 - accuracy: 0.2240 - val_loss: 2.0578 - val_accuracy: 0.2550\n",
            "Epoch 12/100\n",
            "25/25 [==============================] - 0s 17ms/step - loss: 2.0817 - accuracy: 0.2353 - val_loss: 2.0845 - val_accuracy: 0.2500\n",
            "Epoch 13/100\n",
            "25/25 [==============================] - 0s 17ms/step - loss: 2.0890 - accuracy: 0.2340 - val_loss: 2.0643 - val_accuracy: 0.2800\n",
            "Epoch 14/100\n",
            "25/25 [==============================] - 0s 16ms/step - loss: 2.0503 - accuracy: 0.2428 - val_loss: 2.0640 - val_accuracy: 0.2800\n",
            "Epoch 15/100\n",
            "25/25 [==============================] - 0s 17ms/step - loss: 2.0600 - accuracy: 0.2628 - val_loss: 1.9956 - val_accuracy: 0.2800\n",
            "Epoch 16/100\n",
            "25/25 [==============================] - 0s 16ms/step - loss: 1.9762 - accuracy: 0.2741 - val_loss: 1.9791 - val_accuracy: 0.2600\n",
            "Epoch 17/100\n",
            "25/25 [==============================] - 0s 17ms/step - loss: 1.9999 - accuracy: 0.2691 - val_loss: 1.9619 - val_accuracy: 0.3050\n",
            "Epoch 18/100\n",
            "25/25 [==============================] - 0s 18ms/step - loss: 1.9597 - accuracy: 0.2816 - val_loss: 1.9455 - val_accuracy: 0.2700\n",
            "Epoch 19/100\n",
            "25/25 [==============================] - 0s 17ms/step - loss: 1.9414 - accuracy: 0.2929 - val_loss: 1.9232 - val_accuracy: 0.3200\n",
            "Epoch 20/100\n",
            "25/25 [==============================] - 1s 25ms/step - loss: 1.9066 - accuracy: 0.2929 - val_loss: 1.8825 - val_accuracy: 0.3400\n",
            "Epoch 21/100\n",
            "25/25 [==============================] - 1s 26ms/step - loss: 1.8974 - accuracy: 0.3154 - val_loss: 1.8570 - val_accuracy: 0.3650\n",
            "Epoch 22/100\n",
            "25/25 [==============================] - 1s 26ms/step - loss: 1.8678 - accuracy: 0.3267 - val_loss: 1.8062 - val_accuracy: 0.3200\n",
            "Epoch 23/100\n",
            "25/25 [==============================] - 1s 25ms/step - loss: 1.8383 - accuracy: 0.3354 - val_loss: 1.7776 - val_accuracy: 0.3700\n",
            "Epoch 24/100\n",
            "25/25 [==============================] - 1s 27ms/step - loss: 1.7671 - accuracy: 0.3542 - val_loss: 1.7518 - val_accuracy: 0.3450\n",
            "Epoch 25/100\n",
            "25/25 [==============================] - 1s 28ms/step - loss: 1.7553 - accuracy: 0.3592 - val_loss: 1.7445 - val_accuracy: 0.3750\n",
            "Epoch 26/100\n",
            "25/25 [==============================] - 1s 20ms/step - loss: 1.7728 - accuracy: 0.3667 - val_loss: 1.7606 - val_accuracy: 0.3700\n",
            "Epoch 27/100\n",
            "25/25 [==============================] - 0s 18ms/step - loss: 1.7064 - accuracy: 0.3655 - val_loss: 1.7397 - val_accuracy: 0.3550\n",
            "Epoch 28/100\n",
            "25/25 [==============================] - 0s 19ms/step - loss: 1.7622 - accuracy: 0.3592 - val_loss: 1.7552 - val_accuracy: 0.3750\n",
            "Epoch 29/100\n",
            "25/25 [==============================] - 0s 19ms/step - loss: 1.7171 - accuracy: 0.3705 - val_loss: 1.6894 - val_accuracy: 0.4150\n",
            "Epoch 30/100\n",
            "25/25 [==============================] - 0s 17ms/step - loss: 1.6678 - accuracy: 0.3942 - val_loss: 1.6733 - val_accuracy: 0.4050\n",
            "Epoch 31/100\n",
            "25/25 [==============================] - 0s 17ms/step - loss: 1.6765 - accuracy: 0.3842 - val_loss: 1.6872 - val_accuracy: 0.3900\n",
            "Epoch 32/100\n",
            "25/25 [==============================] - 0s 16ms/step - loss: 1.6758 - accuracy: 0.3805 - val_loss: 1.6651 - val_accuracy: 0.3750\n",
            "Epoch 33/100\n",
            "25/25 [==============================] - 0s 17ms/step - loss: 1.6496 - accuracy: 0.3942 - val_loss: 1.6637 - val_accuracy: 0.3950\n",
            "Epoch 34/100\n",
            "25/25 [==============================] - 0s 17ms/step - loss: 1.6236 - accuracy: 0.3930 - val_loss: 1.6469 - val_accuracy: 0.3950\n",
            "Epoch 35/100\n",
            "25/25 [==============================] - 0s 17ms/step - loss: 1.6064 - accuracy: 0.4118 - val_loss: 1.6567 - val_accuracy: 0.3850\n",
            "Epoch 36/100\n",
            "25/25 [==============================] - 0s 18ms/step - loss: 1.5740 - accuracy: 0.4130 - val_loss: 1.6249 - val_accuracy: 0.3900\n",
            "Epoch 37/100\n",
            "25/25 [==============================] - 0s 17ms/step - loss: 1.5180 - accuracy: 0.4568 - val_loss: 1.6412 - val_accuracy: 0.4050\n",
            "Epoch 38/100\n",
            "25/25 [==============================] - 0s 18ms/step - loss: 1.5141 - accuracy: 0.4556 - val_loss: 1.6332 - val_accuracy: 0.4050\n",
            "Epoch 39/100\n",
            "25/25 [==============================] - 0s 17ms/step - loss: 1.4980 - accuracy: 0.4343 - val_loss: 1.5763 - val_accuracy: 0.4300\n",
            "Epoch 40/100\n",
            "25/25 [==============================] - 0s 18ms/step - loss: 1.5664 - accuracy: 0.4130 - val_loss: 1.6057 - val_accuracy: 0.4250\n",
            "Epoch 41/100\n",
            "25/25 [==============================] - 0s 17ms/step - loss: 1.4644 - accuracy: 0.4556 - val_loss: 1.6694 - val_accuracy: 0.4050\n",
            "Epoch 42/100\n",
            "25/25 [==============================] - 0s 17ms/step - loss: 1.4973 - accuracy: 0.4518 - val_loss: 1.6089 - val_accuracy: 0.4300\n",
            "Epoch 43/100\n",
            "25/25 [==============================] - 0s 17ms/step - loss: 1.5404 - accuracy: 0.4255 - val_loss: 1.6559 - val_accuracy: 0.4450\n",
            "Epoch 44/100\n",
            "25/25 [==============================] - 0s 18ms/step - loss: 1.4684 - accuracy: 0.4431 - val_loss: 1.5415 - val_accuracy: 0.4450\n",
            "Epoch 45/100\n",
            "25/25 [==============================] - 0s 19ms/step - loss: 1.4875 - accuracy: 0.4243 - val_loss: 1.5179 - val_accuracy: 0.4400\n",
            "Epoch 46/100\n",
            "25/25 [==============================] - 0s 17ms/step - loss: 1.4281 - accuracy: 0.4631 - val_loss: 1.5700 - val_accuracy: 0.4400\n",
            "Epoch 47/100\n",
            "25/25 [==============================] - 0s 19ms/step - loss: 1.4091 - accuracy: 0.4668 - val_loss: 1.5915 - val_accuracy: 0.4350\n",
            "Epoch 48/100\n",
            "25/25 [==============================] - 1s 23ms/step - loss: 1.3976 - accuracy: 0.4944 - val_loss: 1.5129 - val_accuracy: 0.4600\n",
            "Epoch 49/100\n",
            "25/25 [==============================] - 1s 27ms/step - loss: 1.3756 - accuracy: 0.4793 - val_loss: 1.5902 - val_accuracy: 0.4500\n",
            "Epoch 50/100\n",
            "25/25 [==============================] - 1s 24ms/step - loss: 1.3887 - accuracy: 0.5019 - val_loss: 1.4877 - val_accuracy: 0.4800\n",
            "Epoch 51/100\n",
            "25/25 [==============================] - 1s 27ms/step - loss: 1.3638 - accuracy: 0.4981 - val_loss: 1.5969 - val_accuracy: 0.4650\n",
            "Epoch 52/100\n",
            "25/25 [==============================] - 1s 26ms/step - loss: 1.3307 - accuracy: 0.5169 - val_loss: 1.4708 - val_accuracy: 0.4650\n",
            "Epoch 53/100\n",
            "25/25 [==============================] - 1s 28ms/step - loss: 1.3198 - accuracy: 0.5081 - val_loss: 1.4003 - val_accuracy: 0.5050\n",
            "Epoch 54/100\n",
            "25/25 [==============================] - 1s 23ms/step - loss: 1.3105 - accuracy: 0.5031 - val_loss: 1.4092 - val_accuracy: 0.5100\n",
            "Epoch 55/100\n",
            "25/25 [==============================] - 0s 17ms/step - loss: 1.3007 - accuracy: 0.5094 - val_loss: 1.5372 - val_accuracy: 0.5000\n",
            "Epoch 56/100\n",
            "25/25 [==============================] - 0s 16ms/step - loss: 1.2549 - accuracy: 0.5419 - val_loss: 1.4461 - val_accuracy: 0.5050\n",
            "Epoch 57/100\n",
            "25/25 [==============================] - 0s 18ms/step - loss: 1.2547 - accuracy: 0.5482 - val_loss: 1.4704 - val_accuracy: 0.5150\n",
            "Epoch 58/100\n",
            "25/25 [==============================] - 0s 17ms/step - loss: 1.3153 - accuracy: 0.5407 - val_loss: 1.4738 - val_accuracy: 0.5200\n",
            "Epoch 59/100\n",
            "25/25 [==============================] - 0s 19ms/step - loss: 1.2443 - accuracy: 0.5582 - val_loss: 1.4284 - val_accuracy: 0.5200\n",
            "Epoch 60/100\n",
            "25/25 [==============================] - 0s 17ms/step - loss: 1.2376 - accuracy: 0.5494 - val_loss: 1.4745 - val_accuracy: 0.5000\n",
            "Epoch 61/100\n",
            "25/25 [==============================] - 0s 20ms/step - loss: 1.2213 - accuracy: 0.5807 - val_loss: 1.5158 - val_accuracy: 0.4600\n",
            "Epoch 62/100\n",
            "25/25 [==============================] - 0s 17ms/step - loss: 1.1733 - accuracy: 0.5645 - val_loss: 1.5146 - val_accuracy: 0.5300\n",
            "Epoch 63/100\n",
            "25/25 [==============================] - 0s 17ms/step - loss: 1.2502 - accuracy: 0.5419 - val_loss: 1.3248 - val_accuracy: 0.5450\n",
            "Epoch 64/100\n",
            "25/25 [==============================] - 0s 17ms/step - loss: 1.1235 - accuracy: 0.5645 - val_loss: 1.3863 - val_accuracy: 0.5450\n",
            "Epoch 65/100\n",
            "25/25 [==============================] - 0s 17ms/step - loss: 1.1308 - accuracy: 0.5895 - val_loss: 1.4254 - val_accuracy: 0.5100\n",
            "Epoch 66/100\n",
            "25/25 [==============================] - 0s 18ms/step - loss: 1.1296 - accuracy: 0.6045 - val_loss: 1.3717 - val_accuracy: 0.5500\n",
            "Epoch 67/100\n",
            "25/25 [==============================] - 0s 18ms/step - loss: 1.1026 - accuracy: 0.5882 - val_loss: 1.4626 - val_accuracy: 0.5600\n",
            "Epoch 68/100\n",
            "25/25 [==============================] - 0s 18ms/step - loss: 1.0355 - accuracy: 0.6208 - val_loss: 1.2944 - val_accuracy: 0.5650\n",
            "Epoch 69/100\n",
            "25/25 [==============================] - 0s 17ms/step - loss: 1.0641 - accuracy: 0.6233 - val_loss: 1.4886 - val_accuracy: 0.5250\n",
            "Epoch 70/100\n",
            "25/25 [==============================] - 0s 18ms/step - loss: 1.1172 - accuracy: 0.5932 - val_loss: 1.4564 - val_accuracy: 0.5600\n",
            "Epoch 71/100\n",
            "25/25 [==============================] - 0s 18ms/step - loss: 1.1581 - accuracy: 0.5945 - val_loss: 1.5240 - val_accuracy: 0.5450\n",
            "Epoch 72/100\n",
            "25/25 [==============================] - 0s 17ms/step - loss: 1.0427 - accuracy: 0.6446 - val_loss: 1.4073 - val_accuracy: 0.5600\n",
            "Epoch 73/100\n",
            "25/25 [==============================] - 0s 19ms/step - loss: 1.0405 - accuracy: 0.6333 - val_loss: 1.4359 - val_accuracy: 0.5650\n",
            "Epoch 74/100\n",
            "25/25 [==============================] - 0s 17ms/step - loss: 1.0194 - accuracy: 0.6421 - val_loss: 1.4050 - val_accuracy: 0.5600\n",
            "Epoch 75/100\n",
            "25/25 [==============================] - 0s 18ms/step - loss: 1.0379 - accuracy: 0.6533 - val_loss: 1.4924 - val_accuracy: 0.5450\n",
            "Epoch 76/100\n",
            "25/25 [==============================] - 0s 17ms/step - loss: 1.0844 - accuracy: 0.6496 - val_loss: 1.5738 - val_accuracy: 0.5400\n",
            "Epoch 77/100\n",
            "25/25 [==============================] - 1s 27ms/step - loss: 0.9820 - accuracy: 0.6721 - val_loss: 1.4783 - val_accuracy: 0.5700\n",
            "Epoch 78/100\n",
            "25/25 [==============================] - 1s 25ms/step - loss: 0.9885 - accuracy: 0.6583 - val_loss: 1.4872 - val_accuracy: 0.5950\n",
            "Epoch 79/100\n",
            "25/25 [==============================] - 1s 26ms/step - loss: 0.9594 - accuracy: 0.6733 - val_loss: 1.5285 - val_accuracy: 0.5550\n",
            "Epoch 80/100\n",
            "25/25 [==============================] - 1s 23ms/step - loss: 0.9587 - accuracy: 0.6783 - val_loss: 1.6153 - val_accuracy: 0.5400\n",
            "Epoch 81/100\n",
            "25/25 [==============================] - 1s 26ms/step - loss: 1.0131 - accuracy: 0.6571 - val_loss: 1.3640 - val_accuracy: 0.6000\n",
            "Epoch 82/100\n",
            "25/25 [==============================] - 1s 26ms/step - loss: 0.9377 - accuracy: 0.6809 - val_loss: 1.4516 - val_accuracy: 0.5950\n",
            "Epoch 83/100\n",
            "25/25 [==============================] - 1s 23ms/step - loss: 0.8791 - accuracy: 0.6909 - val_loss: 1.3264 - val_accuracy: 0.6000\n",
            "Epoch 84/100\n",
            "25/25 [==============================] - 0s 18ms/step - loss: 0.8152 - accuracy: 0.7259 - val_loss: 1.6035 - val_accuracy: 0.5750\n",
            "Epoch 85/100\n",
            "25/25 [==============================] - 0s 16ms/step - loss: 0.7486 - accuracy: 0.7284 - val_loss: 1.6644 - val_accuracy: 0.6150\n",
            "Epoch 86/100\n",
            "25/25 [==============================] - 0s 16ms/step - loss: 0.8836 - accuracy: 0.7046 - val_loss: 1.4750 - val_accuracy: 0.6100\n",
            "Epoch 87/100\n",
            "25/25 [==============================] - 0s 17ms/step - loss: 0.8740 - accuracy: 0.7021 - val_loss: 1.4972 - val_accuracy: 0.5850\n",
            "Epoch 88/100\n",
            "25/25 [==============================] - 0s 19ms/step - loss: 0.8857 - accuracy: 0.7184 - val_loss: 1.8268 - val_accuracy: 0.5150\n",
            "Epoch 89/100\n",
            "25/25 [==============================] - 0s 17ms/step - loss: 0.8630 - accuracy: 0.7222 - val_loss: 1.5526 - val_accuracy: 0.6000\n",
            "Epoch 90/100\n",
            "25/25 [==============================] - 0s 17ms/step - loss: 0.8220 - accuracy: 0.7184 - val_loss: 1.3995 - val_accuracy: 0.6200\n",
            "Epoch 91/100\n",
            "25/25 [==============================] - 0s 17ms/step - loss: 0.7815 - accuracy: 0.7334 - val_loss: 1.4784 - val_accuracy: 0.5900\n",
            "Epoch 92/100\n",
            "25/25 [==============================] - 0s 18ms/step - loss: 0.7997 - accuracy: 0.7309 - val_loss: 1.6720 - val_accuracy: 0.6050\n",
            "Epoch 93/100\n",
            "25/25 [==============================] - 0s 17ms/step - loss: 0.8499 - accuracy: 0.7084 - val_loss: 1.7716 - val_accuracy: 0.5800\n",
            "Epoch 94/100\n",
            "25/25 [==============================] - 0s 18ms/step - loss: 0.8589 - accuracy: 0.7247 - val_loss: 1.4703 - val_accuracy: 0.5900\n",
            "Epoch 95/100\n",
            "25/25 [==============================] - 0s 17ms/step - loss: 0.7844 - accuracy: 0.7322 - val_loss: 1.5075 - val_accuracy: 0.6200\n",
            "Epoch 96/100\n",
            "25/25 [==============================] - 0s 17ms/step - loss: 0.7640 - accuracy: 0.7509 - val_loss: 1.6946 - val_accuracy: 0.5700\n",
            "Epoch 97/100\n",
            "25/25 [==============================] - 0s 18ms/step - loss: 0.7583 - accuracy: 0.7534 - val_loss: 1.7745 - val_accuracy: 0.5850\n",
            "Epoch 98/100\n",
            "25/25 [==============================] - 0s 17ms/step - loss: 0.7506 - accuracy: 0.7484 - val_loss: 1.6834 - val_accuracy: 0.6250\n",
            "Epoch 99/100\n",
            "25/25 [==============================] - 0s 18ms/step - loss: 0.6884 - accuracy: 0.7710 - val_loss: 1.6102 - val_accuracy: 0.6050\n",
            "Epoch 100/100\n",
            "25/25 [==============================] - 0s 17ms/step - loss: 0.6838 - accuracy: 0.7660 - val_loss: 1.5690 - val_accuracy: 0.6350\n"
          ]
        }
      ]
    },
    {
      "cell_type": "markdown",
      "source": [
        "Model Evaluation"
      ],
      "metadata": {
        "id": "Y4mFPhjQBm0l"
      }
    },
    {
      "cell_type": "code",
      "source": [
        "# Evaluate the model on the test set\n",
        "loss, accuracy = model.evaluate(X_test, y_test, verbose=2)\n",
        "\n",
        "# Print the test loss and accuracy\n",
        "print(\"\\nTest Accuracy:\", accuracy)\n",
        "print(\"Test Loss:\", loss)"
      ],
      "metadata": {
        "colab": {
          "base_uri": "https://localhost:8080/"
        },
        "id": "dfo0asJ47SPO",
        "outputId": "e2b62375-e3fd-4e93-c081-0674c9049e1a"
      },
      "execution_count": null,
      "outputs": [
        {
          "output_type": "stream",
          "name": "stdout",
          "text": [
            "7/7 - 0s - loss: 1.5690 - accuracy: 0.6350 - 48ms/epoch - 7ms/step\n",
            "\n",
            "Test Accuracy: 0.6349999904632568\n",
            "Test Loss: 1.5690211057662964\n"
          ]
        }
      ]
    }
  ]
}